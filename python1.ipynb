{
  "cells": [
    {
      "cell_type": "markdown",
      "metadata": {
        "id": "view-in-github",
        "colab_type": "text"
      },
      "source": [
        "<a href=\"https://colab.research.google.com/github/Ashishkumar137/Ashishkumar137/blob/main/python1.ipynb\" target=\"_parent\"><img src=\"https://colab.research.google.com/assets/colab-badge.svg\" alt=\"Open In Colab\"/></a>"
      ]
    },
    {
      "cell_type": "markdown",
      "source": [
        "# Python Interview Questions"
      ],
      "metadata": {
        "id": "4SXIMGNGugwz"
      }
    },
    {
      "cell_type": "markdown",
      "metadata": {
        "id": "mBElSVnaZZ8v"
      },
      "source": [
        "**Constractor in Python**\n"
      ]
    },
    {
      "cell_type": "markdown",
      "metadata": {
        "id": "AvPWxDbSZg6h"
      },
      "source": [
        "In Python, the method the __init__() simulates the constructor of the class. This method is called when the class is instantiated.\n",
        "\n",
        "Constructors can be of two types.\n",
        "\n",
        "1. Parameterized Constructor\n",
        "2. Non-parameterized Constructor\n",
        "\n"
      ]
    },
    {
      "cell_type": "markdown",
      "metadata": {
        "id": "BROeh8obaedb"
      },
      "source": [
        "***Counting the number of objects of a class***\n",
        "\n"
      ]
    },
    {
      "cell_type": "code",
      "execution_count": null,
      "metadata": {
        "colab": {
          "base_uri": "https://localhost:8080/"
        },
        "id": "cbj5swchnZ1f",
        "outputId": "02ad7af1-abf4-49a7-92ca-7e75a20fb774"
      },
      "outputs": [
        {
          "name": "stdout",
          "output_type": "stream",
          "text": [
            "3\n"
          ]
        }
      ],
      "source": [
        "class Student :\n",
        "  counter = 0\n",
        "  def __init__(self):\n",
        "    Student.counter += 1\n",
        "\n",
        "s1 = Student()\n",
        "s2 = Student()\n",
        "s3 = Student()\n",
        "print(Student.counter)"
      ]
    },
    {
      "cell_type": "markdown",
      "metadata": {
        "id": "3lvqGjfC_lde"
      },
      "source": [
        "***Python Default Constructor***\n"
      ]
    },
    {
      "cell_type": "code",
      "execution_count": null,
      "metadata": {
        "colab": {
          "base_uri": "https://localhost:8080/"
        },
        "id": "ImVbD1qG_u3u",
        "outputId": "6117c306-3252-4747-91ff-1f26acffe4b5"
      },
      "outputs": [
        {
          "name": "stdout",
          "output_type": "stream",
          "text": [
            "101 Joseph\n"
          ]
        }
      ],
      "source": [
        "class Student:\n",
        "    roll_num = 101\n",
        "    name = \"Joseph\"\n",
        "\n",
        "    def display(self):\n",
        "        print(self.roll_num,self.name)\n",
        "\n",
        "st = Student()\n",
        "st.display()"
      ]
    },
    {
      "cell_type": "markdown",
      "metadata": {
        "id": "sNbdOzT3_8Ni"
      },
      "source": [
        "***More than One Constructor in Single class***\n",
        "\n",
        "The constructor overloading is not allowed in Python."
      ]
    },
    {
      "cell_type": "code",
      "execution_count": null,
      "metadata": {
        "colab": {
          "base_uri": "https://localhost:8080/"
        },
        "id": "OTe7bLkgAhbQ",
        "outputId": "2e0118f6-95fb-49b5-b179-afe08303c568"
      },
      "outputs": [
        {
          "name": "stdout",
          "output_type": "stream",
          "text": [
            "The second contructor\n"
          ]
        }
      ],
      "source": [
        "class Student:\n",
        "    def __init__(self):\n",
        "        print(\"The First Constructor\")\n",
        "    def __init__(self):\n",
        "        print(\"The second contructor\")\n",
        "\n",
        "st = Student()"
      ]
    },
    {
      "cell_type": "markdown",
      "metadata": {
        "id": "xlUFWHgEBJco"
      },
      "source": [
        "**Python built-in class functions**\n",
        "\n",
        "\n",
        "1.   getattr(obj,name,default)\n",
        "1.   setattr(obj,name,value)\n",
        "2.   deleteattr(obj,name)\n",
        "2.   hasattr(obj,name)\n",
        "\n"
      ]
    },
    {
      "cell_type": "code",
      "execution_count": null,
      "metadata": {
        "colab": {
          "background_save": true
        },
        "id": "-5Hu7PnYBvf_"
      },
      "outputs": [],
      "source": [
        "class Student:\n",
        "    def __init__(self, name, id, age):\n",
        "        self.name = name\n",
        "        self.id = id\n",
        "        self.age = age\n",
        "\n",
        "    # creates the object of the class Student\n",
        "s = Student(\"John\", 101, 22)"
      ]
    },
    {
      "cell_type": "markdown",
      "source": [
        "**What is the difference between Python Arrays and lists?**"
      ],
      "metadata": {
        "id": "lIzyjEcDcz2C"
      }
    },
    {
      "cell_type": "markdown",
      "source": [
        "Arrays in python can only contain elements of same data types i.e., data type of array should be homogeneous.\n",
        "\n",
        "Lists in python can contain elements of different data types i.e., data type of lists can be heterogeneous. It has the disadvantage of consuming large memory."
      ],
      "metadata": {
        "id": "aVgNXm2Vc6w3"
      }
    },
    {
      "cell_type": "code",
      "source": [
        "import array\n",
        "a = array.array('i',[1,2,3])\n",
        "for i in a :\n",
        "  print(i,end='')\n",
        "print(\"----------\")\n",
        "\n",
        "# list in python\n",
        "b = [1,\"Ashish\",True]\n",
        "for i in b:\n",
        "  print(i,end='')"
      ],
      "metadata": {
        "colab": {
          "base_uri": "https://localhost:8080/"
        },
        "id": "3rfpGVWBc2zE",
        "outputId": "e0e8b33a-456f-4499-d651-b9fcb7003259"
      },
      "execution_count": null,
      "outputs": [
        {
          "output_type": "stream",
          "name": "stdout",
          "text": [
            "123----------\n",
            "1AshishTrue"
          ]
        }
      ]
    },
    {
      "cell_type": "markdown",
      "source": [
        "List and Dict comprihension \\"
      ],
      "metadata": {
        "id": "pvpEC50g1Wh4"
      }
    },
    {
      "cell_type": "code",
      "source": [
        "lst = [1,2,3,4,5,6]\n",
        "list_com = [x**2 for x in lst]\n",
        "print(list_com)\n",
        "\n",
        "dict_com = {x:x**2 for x in lst}\n",
        "print(dict_com)"
      ],
      "metadata": {
        "id": "rtDqfTVvdA6f",
        "colab": {
          "base_uri": "https://localhost:8080/"
        },
        "outputId": "01afb665-2dad-441a-f015-370717ad0a3a"
      },
      "execution_count": null,
      "outputs": [
        {
          "output_type": "stream",
          "name": "stdout",
          "text": [
            "[1, 4, 9, 16, 25, 36]\n",
            "{1: 1, 2: 4, 3: 9, 4: 16, 5: 25, 6: 36}\n"
          ]
        }
      ]
    },
    {
      "cell_type": "code",
      "source": [
        "my_list = [2, 3, 5, 7, 11]\n",
        "squared_list = [x**2 for x in my_list if x%2 != 0]    # list comprehension\n",
        "print(squared_list)\n",
        "squared_dict = {x:x**2 for x in my_list if x%2 != 0}    # dict comprehension\n",
        "print(squared_dict)"
      ],
      "metadata": {
        "colab": {
          "base_uri": "https://localhost:8080/"
        },
        "id": "VG0ZkFPa5v3e",
        "outputId": "c397de77-b789-41c5-84d9-4dddd508e3f0"
      },
      "execution_count": null,
      "outputs": [
        {
          "output_type": "stream",
          "name": "stdout",
          "text": [
            "[9, 25, 49, 121]\n",
            "{3: 9, 5: 25, 7: 49, 11: 121}\n"
          ]
        }
      ]
    },
    {
      "cell_type": "code",
      "source": [
        "a = [1, 2, 3]\n",
        "b = [7, 8, 9]\n",
        "new_list = [(a,b) for (a,b) in zip(a,b)]\n",
        "print(new_list)\n",
        "\n"
      ],
      "metadata": {
        "colab": {
          "base_uri": "https://localhost:8080/"
        },
        "id": "fK2Rgoe96LpN",
        "outputId": "7c1102b4-bef7-4d6b-a6da-93297a2525b8"
      },
      "execution_count": null,
      "outputs": [
        {
          "output_type": "stream",
          "name": "stdout",
          "text": [
            "[(1, 7), (2, 8), (3, 9)]\n"
          ]
        }
      ]
    },
    {
      "cell_type": "code",
      "source": [
        "a = [1, 2, 3]\n",
        "b = [7, 8, 9]\n",
        "new_list = [(x,y) for x in a for y in b]\n",
        "print(new_list)\n",
        "\n"
      ],
      "metadata": {
        "colab": {
          "base_uri": "https://localhost:8080/"
        },
        "id": "ZjJECcJW6uuP",
        "outputId": "56858b77-a9f5-4165-dacc-0fa85f2976ef"
      },
      "execution_count": null,
      "outputs": [
        {
          "output_type": "stream",
          "name": "stdout",
          "text": [
            "[(1, 7), (1, 8), (1, 9), (2, 7), (2, 8), (2, 9), (3, 7), (3, 8), (3, 9)]\n"
          ]
        }
      ]
    },
    {
      "cell_type": "markdown",
      "source": [
        "**Decorators in Python**"
      ],
      "metadata": {
        "id": "DCb1dtD5NHBP"
      }
    },
    {
      "cell_type": "code",
      "source": [
        "# decoretor function to convert in lowercase\n",
        "def lowercase_deco(function):\n",
        "  def wrapper():\n",
        "    func = function()\n",
        "    lower_string = func.lower()\n",
        "    return lower_string\n",
        "  return wrapper\n",
        "\n",
        "# decorater to split the the string\n",
        "def split_deco(function):\n",
        "  def wrapper():\n",
        "    func = function()\n",
        "    split_string = func.split()\n",
        "    return split_string\n",
        "  return wrapper\n",
        "\n",
        "# using decorator in myfunc\n",
        "@split_deco\n",
        "@lowercase_deco\n",
        "def myfunc():\n",
        "  return \"Hello World\"\n",
        "\n",
        "print(myfunc())"
      ],
      "metadata": {
        "id": "NxTIDPqd7Kr7",
        "colab": {
          "base_uri": "https://localhost:8080/"
        },
        "outputId": "73518dc7-9cc2-486f-9373-1d5414dbe215"
      },
      "execution_count": null,
      "outputs": [
        {
          "output_type": "stream",
          "name": "stdout",
          "text": [
            "['hello', 'world']\n"
          ]
        }
      ]
    },
    {
      "cell_type": "markdown",
      "source": [
        "**Decorator can tack one or more arguments**"
      ],
      "metadata": {
        "id": "dNv4a6kgBJXZ"
      }
    },
    {
      "cell_type": "code",
      "source": [
        "def my_deco(function):\n",
        "  def wrapper(arg1 , arg2):\n",
        "    string1 = arg1.capitalize()\n",
        "    string2 = arg2.capitalize()\n",
        "    string_func = function(arg1,arg2)\n",
        "    return string_func\n",
        "  return wrapper\n",
        "\n",
        "def say_hello(name1, name2):\n",
        "   return 'Hello ' + name1 + '! Hello ' + name2 + '!'\n",
        "say_hello('sara', 'ansh')"
      ],
      "metadata": {
        "colab": {
          "base_uri": "https://localhost:8080/",
          "height": 36
        },
        "id": "xrUGqTE9Ba79",
        "outputId": "09b02d20-bacd-49f0-a823-0bf03cd16d1b"
      },
      "execution_count": null,
      "outputs": [
        {
          "output_type": "execute_result",
          "data": {
            "text/plain": [
              "'Hello sara! Hello ansh!'"
            ],
            "application/vnd.google.colaboratory.intrinsic+json": {
              "type": "string"
            }
          },
          "metadata": {},
          "execution_count": 1
        }
      ]
    },
    {
      "cell_type": "markdown",
      "source": [
        "**VARIABLE LENGTH ARGUMENTS **"
      ],
      "metadata": {
        "id": "uRg3008Mojrg"
      }
    },
    {
      "cell_type": "code",
      "source": [
        "def multiply(a, b, *argv):\n",
        "   mul = a * b\n",
        "   for num in argv:\n",
        "       mul *= num\n",
        "   return mul\n",
        "print(multiply(1, 2, 3, 4, 5))"
      ],
      "metadata": {
        "colab": {
          "base_uri": "https://localhost:8080/"
        },
        "id": "tKyJZwMUop32",
        "outputId": "3675c8e0-e850-4cd6-ad69-220c5354bfd3"
      },
      "execution_count": null,
      "outputs": [
        {
          "output_type": "stream",
          "name": "stdout",
          "text": [
            "120\n"
          ]
        }
      ]
    },
    {
      "cell_type": "markdown",
      "source": [
        "**Iterators in Python**\n",
        "\n",
        "An iterator is an object.\n",
        "It remembers its state\n",
        "\n",
        "__iter__() method initializes an iterator.\n",
        "It has a __next__() method which returns the next item in iteration and points to the next element."
      ],
      "metadata": {
        "id": "Do6Z8vbTUPMH"
      }
    },
    {
      "cell_type": "code",
      "source": [
        "class ArrayList:\n",
        "  def __init__(self,num_list):\n",
        "    self.num_list = num_list\n",
        "  def __iter__(self):\n",
        "    self.pos = 0\n",
        "    return self\n",
        "  def __next__(self):\n",
        "    if(self.pos < len(self.num_list)):\n",
        "      self.pos += 1\n",
        "      return self.num_list[self.pos-1]\n",
        "    else:\n",
        "      return StopIteration\n",
        "\n",
        "arr_obj = ArrayList([1,2,3])\n",
        "it = iter(arr_obj)\n",
        "print(next(it))\n",
        "print(next(it))\n",
        "print(next(it))\n",
        "print(next(it))\n"
      ],
      "metadata": {
        "colab": {
          "base_uri": "https://localhost:8080/"
        },
        "id": "hv_CQ6EjUSB3",
        "outputId": "d85229aa-c951-4c23-b817-69c1d57a8328"
      },
      "execution_count": null,
      "outputs": [
        {
          "output_type": "stream",
          "name": "stdout",
          "text": [
            "1\n",
            "2\n",
            "3\n",
            "<class 'StopIteration'>\n"
          ]
        }
      ]
    },
    {
      "cell_type": "markdown",
      "source": [
        "**How do you copy an object in Python**\n",
        "\n",
        "**Shallow Copy** is a bit-wise copy of an object. The copied object created has an exact copy of the values in the original object. If either of the values is a reference to other objects, just the reference addresses for the same are copied.\n",
        "\n",
        "**Deep Copy** copies all values recursively from source to target object, i.e. it even duplicates the objects referenced by the source object."
      ],
      "metadata": {
        "id": "Qmksb2FdtjD_"
      }
    },
    {
      "cell_type": "code",
      "source": [
        "from copy import copy, deepcopy\n",
        "list_1 = [1, 2, [3, 5], 4]\n",
        "## shallow copy\n",
        "list_2 = copy(list_1)\n",
        "list_2[3] = 7\n",
        "list_2[2].append(6)\n",
        "list_2    # output => [1, 2, [3, 5, 6], 7]\n",
        "list_1    # output => [1, 2, [3, 5, 6], 4]\n",
        "## deep copy\n",
        "list_3 = deepcopy(list_1)\n",
        "list_3[3] = 8\n",
        "list_3[2].append(7)\n",
        "list_3    # output => [1, 2, [3, 5, 6, 7], 8]\n",
        "list_1    # output => [1, 2, [3, 5, 6], 4]"
      ],
      "metadata": {
        "colab": {
          "base_uri": "https://localhost:8080/"
        },
        "id": "f0Y7DoSQtl3G",
        "outputId": "cfe97b30-ed3a-43c0-f4d7-231e48a44778"
      },
      "execution_count": null,
      "outputs": [
        {
          "output_type": "execute_result",
          "data": {
            "text/plain": [
              "[1, 2, [3, 5, 6], 4]"
            ]
          },
          "metadata": {},
          "execution_count": 1
        }
      ]
    },
    {
      "cell_type": "markdown",
      "source": [
        "# Python OOPS Interview Questions"
      ],
      "metadata": {
        "id": "vf5dSzinuQ7E"
      }
    },
    {
      "cell_type": "markdown",
      "source": [
        "**How to chaeck a class is subclass and object is instance of a class**\n",
        "\n",
        "**Subclass : ** by using a method called issubclass()\n",
        "\n",
        "**Instance : ** by making use of isinstance() method"
      ],
      "metadata": {
        "id": "pleZf2CBuXsz"
      }
    },
    {
      "cell_type": "code",
      "source": [
        "class A:\n",
        "  pass\n",
        "class B(A):\n",
        "  pass\n",
        "\n",
        "print(issubclass(B,A))\n",
        "obj = B()\n",
        "print(isinstance(obj,B))"
      ],
      "metadata": {
        "colab": {
          "base_uri": "https://localhost:8080/"
        },
        "id": "gDb5HeFx4Kjb",
        "outputId": "207b8187-b530-4f69-c83d-50954663530e"
      },
      "execution_count": null,
      "outputs": [
        {
          "output_type": "stream",
          "name": "stdout",
          "text": [
            "True\n",
            "True\n"
          ]
        }
      ]
    },
    {
      "cell_type": "markdown",
      "source": [
        "**Are access specifiers used in python**\n",
        "\n",
        "Python does not make use of access specifiers specifically like private, public, protected, etc.\n",
        "\n",
        "It has the concept of imitating the behaviour of variables by making use of a single (protected) or double underscore (private) as prefixed to the variable names.\n"
      ],
      "metadata": {
        "id": "9bxuwe4A-8xb"
      }
    },
    {
      "cell_type": "code",
      "source": [
        "\n",
        "class InterviewbitEmployee:\n",
        "\n",
        "    # protected members\n",
        "    _emp_name = None\n",
        "    _age = None\n",
        "\n",
        "    # private members\n",
        "    __branch = None\n",
        "\n",
        "    # constructor\n",
        "    def __init__(self, emp_name, age, branch):\n",
        "         self._emp_name = emp_name\n",
        "         self._age = age\n",
        "         self.__branch = branch\n",
        "\n",
        "    #public member\n",
        "    def display(self):\n",
        "        print(self._emp_name ,\" \",self._age,\" \",self.__branch)\n",
        "\n",
        "obj = InterviewbitEmployee(\"Ashish\",23,\"AI\")\n",
        "obj.display()"
      ],
      "metadata": {
        "colab": {
          "base_uri": "https://localhost:8080/"
        },
        "id": "U2KWRiaz_MbP",
        "outputId": "c71c372f-8921-4906-b7e4-2d9edefe0bba"
      },
      "execution_count": null,
      "outputs": [
        {
          "output_type": "stream",
          "name": "stdout",
          "text": [
            "Ashish   23   AI\n"
          ]
        }
      ]
    },
    {
      "cell_type": "markdown",
      "source": [
        "**How do you access parent members in the child class?**\n",
        "\n",
        "1. By using Parent class name:\n",
        "2. By using super():\n"
      ],
      "metadata": {
        "id": "ogiqPGItW3SC"
      }
    },
    {
      "cell_type": "code",
      "source": [
        "# By using Parent class name\n",
        "class A :\n",
        "  def __init__(self,a):\n",
        "    self.a = a\n",
        "  def display(self):\n",
        "    print(self.a)\n",
        "\n",
        "class B(A):\n",
        "  def __init__(self,a,b):\n",
        "    A.a = a\n",
        "    self.b = b\n",
        "  def display(self):\n",
        "    print(self.a)\n",
        "    print(self.b)\n",
        "\n",
        "obj = B(10,20)\n",
        "obj.display()\n",
        "obj1 = A(30)\n",
        "obj1.display()\n"
      ],
      "metadata": {
        "id": "o-1PH3s4XNkU",
        "colab": {
          "base_uri": "https://localhost:8080/"
        },
        "outputId": "c059d3de-5477-4439-aca6-1f2ac8e627fb"
      },
      "execution_count": 10,
      "outputs": [
        {
          "output_type": "stream",
          "name": "stdout",
          "text": [
            "10\n",
            "20\n",
            "30\n"
          ]
        }
      ]
    },
    {
      "cell_type": "code",
      "source": [
        "# By using super()\n",
        "class A:\n",
        "  def __init__(self,a):\n",
        "    self.a = a\n",
        "  def display(self):\n",
        "    print(self.a)\n",
        "\n",
        "class B(A):\n",
        "  def __init__(self,a,b):\n",
        "    super().__init__(a)\n",
        "    self.b = b\n",
        "  def display(self):\n",
        "    super().display()\n",
        "    print(self.b)\n",
        "\n",
        "obj = B(10,20)\n",
        "obj.display()"
      ],
      "metadata": {
        "colab": {
          "base_uri": "https://localhost:8080/"
        },
        "id": "snVX3Q_95EBr",
        "outputId": "15257df5-8db9-4666-9047-ed2e8f022b35"
      },
      "execution_count": 11,
      "outputs": [
        {
          "output_type": "stream",
          "name": "stdout",
          "text": [
            "10\n",
            "20\n"
          ]
        }
      ]
    },
    {
      "cell_type": "markdown",
      "source": [
        "**Single Inheritance:** Child class derives members of one parent class."
      ],
      "metadata": {
        "id": "7fn_kv9F5TB2"
      }
    },
    {
      "cell_type": "code",
      "source": [
        "class Parent:\n",
        "  def __init__(self,name,age):\n",
        "    self.name = name\n",
        "    self.age = age\n",
        "  def display(self):\n",
        "    print(self.name,self.age)\n",
        "\n",
        "class Child(Parent):\n",
        "  def __init__(self,name,age,salary):\n",
        "    Parent.__init__(self,name,age)\n",
        "    self.salary = salary\n",
        "\n",
        "  def display(self):\n",
        "    Parent.display(self)\n",
        "    print(self.salary)\n",
        "\n",
        "obj = Child(\"Ashish\",23,10000)\n",
        "obj.display()"
      ],
      "metadata": {
        "colab": {
          "base_uri": "https://localhost:8080/"
        },
        "id": "CtPoUU-S5bxc",
        "outputId": "c2adf299-4086-4aea-e6e6-142cb422e523"
      },
      "execution_count": 12,
      "outputs": [
        {
          "output_type": "stream",
          "name": "stdout",
          "text": [
            "Ashish 23\n",
            "10000\n"
          ]
        }
      ]
    },
    {
      "cell_type": "markdown",
      "source": [
        "**Multi-level Inheritance:** The members of the parent class, A, are inherited by child class which is then inherited by another child class, B. The features of the base class and the derived class are further inherited into the new derived class, C. Here, A is the grandfather class of class C.\n"
      ],
      "metadata": {
        "id": "n5NLTXkl6ezo"
      }
    },
    {
      "cell_type": "code",
      "source": [
        "class A:\n",
        "  def __init__(self,a):\n",
        "    self.a = a\n",
        "class B(A):\n",
        "  def __init__(self,a,b):\n",
        "    A.__init__(self,a)\n",
        "    self.b = b\n",
        "class C(B):\n",
        "  def __init__(self,a,b,c):\n",
        "    B.__init__(self,a,b)\n",
        "    self.c = c\n",
        "\n",
        "  def display(self):\n",
        "    print(self.a,self.b,self.c)\n",
        "\n",
        "obj = C(10,20,30)\n",
        "obj.display()"
      ],
      "metadata": {
        "colab": {
          "base_uri": "https://localhost:8080/"
        },
        "id": "k9-GYEph6nDz",
        "outputId": "8bd660bb-af66-4cf4-91be-b5ea8d0aa572"
      },
      "execution_count": 14,
      "outputs": [
        {
          "output_type": "stream",
          "name": "stdout",
          "text": [
            "10 20 30\n"
          ]
        }
      ]
    },
    {
      "cell_type": "markdown",
      "source": [
        "**Multiple Inheritance:** This is achieved when one child class derives members from more than one parent class. All features of parent classes are inherited in the child class."
      ],
      "metadata": {
        "id": "FCLf1eak7Q7X"
      }
    },
    {
      "cell_type": "code",
      "source": [
        "class A :\n",
        "  def __init__(self,a):\n",
        "    self.a = a\n",
        "\n",
        "class B :\n",
        "  def __init__(self,b):\n",
        "    self.b = b\n",
        "\n",
        "class C(A,B):\n",
        "  def __init__(self,a,b,c):\n",
        "    A.__init__(self,a)\n",
        "    B.__init__(self,b)\n",
        "    self.c = c\n",
        "\n",
        "  def display(self):\n",
        "    print(self.a,self.b,self.c)\n",
        "\n",
        "obj = C(10,20,30)\n",
        "obj.display()"
      ],
      "metadata": {
        "colab": {
          "base_uri": "https://localhost:8080/"
        },
        "id": "SGiehDn27bYN",
        "outputId": "49675cd3-0665-48ec-b63a-a05421241150"
      },
      "execution_count": 15,
      "outputs": [
        {
          "output_type": "stream",
          "name": "stdout",
          "text": [
            "10 20 30\n"
          ]
        }
      ]
    },
    {
      "cell_type": "markdown",
      "source": [
        "**Hierarchical Inheritance:** When a parent class is derived by more than one child class, it is called hierarchical inheritance."
      ],
      "metadata": {
        "id": "7CQKa7hM8E44"
      }
    },
    {
      "cell_type": "code",
      "source": [
        "class A:\n",
        "  def __init__(self,a):\n",
        "    self.a = a\n",
        "\n",
        "class B(A):\n",
        "  def __init__(self,a,b):\n",
        "    A.__init__(self,a)\n",
        "    self.b = b\n",
        "\n",
        "  def display(self):\n",
        "    print(self.a,self.b)\n",
        "\n",
        "class C(A):\n",
        "  def __init__(self,a,c):\n",
        "    A.__init__(self,a)\n",
        "    self.c = c\n",
        "\n",
        "  def display(self):\n",
        "    print(self.a,self.c)\n",
        "\n",
        "obj = B(10,20)\n",
        "obj1 = C(30,40)\n",
        "obj.display()\n",
        "obj1.display()"
      ],
      "metadata": {
        "colab": {
          "base_uri": "https://localhost:8080/"
        },
        "id": "pzWmiXn_8HYX",
        "outputId": "cdd6a431-6ba0-4f4d-95f8-09f2bd63427a"
      },
      "execution_count": 18,
      "outputs": [
        {
          "output_type": "stream",
          "name": "stdout",
          "text": [
            "10 20\n",
            "30 40\n"
          ]
        }
      ]
    },
    {
      "cell_type": "markdown",
      "source": [],
      "metadata": {
        "id": "_cBbQ3P-9Ks_"
      }
    }
  ],
  "metadata": {
    "colab": {
      "provenance": [],
      "authorship_tag": "ABX9TyN5bjiYOeA2GvFmiy0yelhM",
      "include_colab_link": true
    },
    "kernelspec": {
      "display_name": "Python 3",
      "name": "python3"
    },
    "language_info": {
      "name": "python"
    }
  },
  "nbformat": 4,
  "nbformat_minor": 0
}